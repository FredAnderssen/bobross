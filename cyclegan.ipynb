{
 "metadata": {
  "language_info": {
   "codemirror_mode": {
    "name": "ipython",
    "version": 3
   },
   "file_extension": ".py",
   "mimetype": "text/x-python",
   "name": "python",
   "nbconvert_exporter": "python",
   "pygments_lexer": "ipython3",
   "version": "3.8.0"
  },
  "orig_nbformat": 2,
  "kernelspec": {
   "name": "python3",
   "display_name": "Python 3.8.0 64-bit ('.venvpy38': venv)",
   "metadata": {
    "interpreter": {
     "hash": "1725478bc3027f3e9fbd71ebb5c47202970209a80c1247879d439247edd02c1f"
    }
   }
  }
 },
 "nbformat": 4,
 "nbformat_minor": 2,
 "cells": [
  {
   "cell_type": "code",
   "execution_count": 33,
   "metadata": {},
   "outputs": [],
   "source": [
    "import cv2 as cv\n",
    "import numpy as np\n",
    "import matplotlib.pyplot as plt\n",
    "import tensorflow as tf\n",
    "from tensorflow import keras\n",
    "from tensorflow.keras import layers\n",
    "from keras_contrib.layers.normalization.instancenormalization import InstanceNormalization"
   ]
  },
  {
   "cell_type": "code",
   "execution_count": 3,
   "metadata": {},
   "outputs": [
    {
     "output_type": "stream",
     "name": "stdout",
     "text": [
      "hello there\n"
     ]
    }
   ],
   "source": []
  },
  {
   "cell_type": "code",
   "execution_count": 34,
   "metadata": {},
   "outputs": [],
   "source": [
    "def transform_resnet_block(nrOfFilters, inputLayer):\n",
    "    init = keras.initializers.RandomNormal(stddev=0.02)\n",
    "    resnet = keras.layers.Conv2D(nrOfFilters, (3,3), padding='same', kernel_initializer=init)(inputLayer)\n",
    "    # instead of Batchnormalization\n",
    "    resnet = InstanceNormalization(axis=-1)(resnet)\n",
    "    resnet = keras.layers.Activation('relu')(resnet)\n",
    "    # TODO reflection padding\n",
    "    resnet = keras.layers.Conv2D(nrOfFilters, (3,3), padding='same', kernel_initializer=init)(resnet)\n",
    "    resnet = InstanceNormalization(axis=-1)(resnet)\n",
    "    resnet = keras.layers.Concatenate()([resnet, inputLayer])\n",
    "    return resnet\n",
    "\n"
   ]
  },
  {
   "cell_type": "code",
   "execution_count": 35,
   "metadata": {},
   "outputs": [],
   "source": [
    "# TODO generator model to use 6 ResNet layers as is used in the cycleGAN paper\n",
    "def general_generator(imageShape=(256,256,3), nrOfResnet=9):\n",
    "    init = keras.initializers.RandomNormal(stddev=0.02)\n",
    "    inputImage = keras.Input(shape=imageShape)\n",
    "    # ----Encode ------\n",
    "    generator = keras.layers.Conv2D(64, (7,7), padding='same', kernel_initializer=init)(inputImage)\n",
    "    generator = InstanceNormalization(axis=-1)(generator)\n",
    "    generator = keras.layers.Activation('relu')(generator)\n",
    "\n",
    "    generator = keras.layers.Conv2D(128, (3,3), strides=(2,2), padding='same', kernel_initializer=init)(generator)\n",
    "    generator = InstanceNormalization(axis=-1)(generator)\n",
    "    generator = keras.layers.Activation('relu')(generator)\n",
    "\n",
    "    generator = keras.layers.Conv2D(256, (3,3), strides=(2,2), padding='same', kernel_initializer=init)(generator)\n",
    "    generator = InstanceNormalization(axis=-1)(generator)\n",
    "    generator = keras.layers.Activation('relu')(generator)\n",
    "\n",
    "    # ----Transform -----\n",
    "    for _ in range(nrOfResnet):\n",
    "        generator = transform_resnet_block(256, generator)\n",
    "    # ----Decode ------\n",
    "    generator = keras.layers.Conv2DTranspose(128, (3,3), strides=(2,2), padding='same', kernel_initializer=init)(generator)\n",
    "    generator = InstanceNormalization(axis=-1)(generator)\n",
    "    generator = keras.layers.Activation('relu')(generator)\n",
    "\n",
    "    generator = keras.layers.Conv2DTranspose(64, (3,3), strides=(2,2), padding='same', kernel_initializer=init)(generator)\n",
    "    generator = InstanceNormalization(axis=-1)(generator)\n",
    "    generator = keras.layers.Activation('relu')(generator)\n",
    "\n",
    "    generator = keras.layers.Conv2D(3, (7,7), padding='same', kernel_initializer=init)(generator)\n",
    "    generator = InstanceNormalization(axis=-1)(generator)\n",
    "    outputImage = keras.layers.Activation('tanh')(generator)\n",
    "\n",
    "    model = keras.Model(inputImage, outputImage)\n",
    "    return model\n",
    "\n"
   ]
  },
  {
   "cell_type": "code",
   "execution_count": 36,
   "metadata": {},
   "outputs": [
    {
     "output_type": "stream",
     "name": "stdout",
     "text": [
      "Model: \"model_6\"\n__________________________________________________________________________________________________\nLayer (type)                    Output Shape         Param #     Connected to                     \n==================================================================================================\ninput_8 (InputLayer)            [(None, 256, 256, 3) 0                                            \n__________________________________________________________________________________________________\nconv2d_105 (Conv2D)             (None, 256, 256, 64) 9472        input_8[0][0]                    \n__________________________________________________________________________________________________\ninstance_normalization_107 (Ins (None, 256, 256, 64) 128         conv2d_105[0][0]                 \n__________________________________________________________________________________________________\nactivation_59 (Activation)      (None, 256, 256, 64) 0           instance_normalization_107[0][0] \n__________________________________________________________________________________________________\nconv2d_106 (Conv2D)             (None, 128, 128, 128 73856       activation_59[0][0]              \n__________________________________________________________________________________________________\ninstance_normalization_108 (Ins (None, 128, 128, 128 256         conv2d_106[0][0]                 \n__________________________________________________________________________________________________\nactivation_60 (Activation)      (None, 128, 128, 128 0           instance_normalization_108[0][0] \n__________________________________________________________________________________________________\nconv2d_107 (Conv2D)             (None, 64, 64, 256)  295168      activation_60[0][0]              \n__________________________________________________________________________________________________\ninstance_normalization_109 (Ins (None, 64, 64, 256)  512         conv2d_107[0][0]                 \n__________________________________________________________________________________________________\nactivation_61 (Activation)      (None, 64, 64, 256)  0           instance_normalization_109[0][0] \n__________________________________________________________________________________________________\nconv2d_108 (Conv2D)             (None, 64, 64, 256)  590080      activation_61[0][0]              \n__________________________________________________________________________________________________\ninstance_normalization_110 (Ins (None, 64, 64, 256)  512         conv2d_108[0][0]                 \n__________________________________________________________________________________________________\nactivation_62 (Activation)      (None, 64, 64, 256)  0           instance_normalization_110[0][0] \n__________________________________________________________________________________________________\nconv2d_109 (Conv2D)             (None, 64, 64, 256)  590080      activation_62[0][0]              \n__________________________________________________________________________________________________\ninstance_normalization_111 (Ins (None, 64, 64, 256)  512         conv2d_109[0][0]                 \n__________________________________________________________________________________________________\nconcatenate_36 (Concatenate)    (None, 64, 64, 512)  0           instance_normalization_111[0][0] \n                                                                 activation_61[0][0]              \n__________________________________________________________________________________________________\nconv2d_110 (Conv2D)             (None, 64, 64, 256)  1179904     concatenate_36[0][0]             \n__________________________________________________________________________________________________\ninstance_normalization_112 (Ins (None, 64, 64, 256)  512         conv2d_110[0][0]                 \n__________________________________________________________________________________________________\nactivation_63 (Activation)      (None, 64, 64, 256)  0           instance_normalization_112[0][0] \n__________________________________________________________________________________________________\nconv2d_111 (Conv2D)             (None, 64, 64, 256)  590080      activation_63[0][0]              \n__________________________________________________________________________________________________\ninstance_normalization_113 (Ins (None, 64, 64, 256)  512         conv2d_111[0][0]                 \n__________________________________________________________________________________________________\nconcatenate_37 (Concatenate)    (None, 64, 64, 768)  0           instance_normalization_113[0][0] \n                                                                 concatenate_36[0][0]             \n__________________________________________________________________________________________________\nconv2d_112 (Conv2D)             (None, 64, 64, 256)  1769728     concatenate_37[0][0]             \n__________________________________________________________________________________________________\ninstance_normalization_114 (Ins (None, 64, 64, 256)  512         conv2d_112[0][0]                 \n__________________________________________________________________________________________________\nactivation_64 (Activation)      (None, 64, 64, 256)  0           instance_normalization_114[0][0] \n__________________________________________________________________________________________________\nconv2d_113 (Conv2D)             (None, 64, 64, 256)  590080      activation_64[0][0]              \n__________________________________________________________________________________________________\ninstance_normalization_115 (Ins (None, 64, 64, 256)  512         conv2d_113[0][0]                 \n__________________________________________________________________________________________________\nconcatenate_38 (Concatenate)    (None, 64, 64, 1024) 0           instance_normalization_115[0][0] \n                                                                 concatenate_37[0][0]             \n__________________________________________________________________________________________________\nconv2d_114 (Conv2D)             (None, 64, 64, 256)  2359552     concatenate_38[0][0]             \n__________________________________________________________________________________________________\ninstance_normalization_116 (Ins (None, 64, 64, 256)  512         conv2d_114[0][0]                 \n__________________________________________________________________________________________________\nactivation_65 (Activation)      (None, 64, 64, 256)  0           instance_normalization_116[0][0] \n__________________________________________________________________________________________________\nconv2d_115 (Conv2D)             (None, 64, 64, 256)  590080      activation_65[0][0]              \n__________________________________________________________________________________________________\ninstance_normalization_117 (Ins (None, 64, 64, 256)  512         conv2d_115[0][0]                 \n__________________________________________________________________________________________________\nconcatenate_39 (Concatenate)    (None, 64, 64, 1280) 0           instance_normalization_117[0][0] \n                                                                 concatenate_38[0][0]             \n__________________________________________________________________________________________________\nconv2d_116 (Conv2D)             (None, 64, 64, 256)  2949376     concatenate_39[0][0]             \n__________________________________________________________________________________________________\ninstance_normalization_118 (Ins (None, 64, 64, 256)  512         conv2d_116[0][0]                 \n__________________________________________________________________________________________________\nactivation_66 (Activation)      (None, 64, 64, 256)  0           instance_normalization_118[0][0] \n__________________________________________________________________________________________________\nconv2d_117 (Conv2D)             (None, 64, 64, 256)  590080      activation_66[0][0]              \n__________________________________________________________________________________________________\ninstance_normalization_119 (Ins (None, 64, 64, 256)  512         conv2d_117[0][0]                 \n__________________________________________________________________________________________________\nconcatenate_40 (Concatenate)    (None, 64, 64, 1536) 0           instance_normalization_119[0][0] \n                                                                 concatenate_39[0][0]             \n__________________________________________________________________________________________________\nconv2d_118 (Conv2D)             (None, 64, 64, 256)  3539200     concatenate_40[0][0]             \n__________________________________________________________________________________________________\ninstance_normalization_120 (Ins (None, 64, 64, 256)  512         conv2d_118[0][0]                 \n__________________________________________________________________________________________________\nactivation_67 (Activation)      (None, 64, 64, 256)  0           instance_normalization_120[0][0] \n__________________________________________________________________________________________________\nconv2d_119 (Conv2D)             (None, 64, 64, 256)  590080      activation_67[0][0]              \n__________________________________________________________________________________________________\ninstance_normalization_121 (Ins (None, 64, 64, 256)  512         conv2d_119[0][0]                 \n__________________________________________________________________________________________________\nconcatenate_41 (Concatenate)    (None, 64, 64, 1792) 0           instance_normalization_121[0][0] \n                                                                 concatenate_40[0][0]             \n__________________________________________________________________________________________________\nconv2d_120 (Conv2D)             (None, 64, 64, 256)  4129024     concatenate_41[0][0]             \n__________________________________________________________________________________________________\ninstance_normalization_122 (Ins (None, 64, 64, 256)  512         conv2d_120[0][0]                 \n__________________________________________________________________________________________________\nactivation_68 (Activation)      (None, 64, 64, 256)  0           instance_normalization_122[0][0] \n__________________________________________________________________________________________________\nconv2d_121 (Conv2D)             (None, 64, 64, 256)  590080      activation_68[0][0]              \n__________________________________________________________________________________________________\ninstance_normalization_123 (Ins (None, 64, 64, 256)  512         conv2d_121[0][0]                 \n__________________________________________________________________________________________________\nconcatenate_42 (Concatenate)    (None, 64, 64, 2048) 0           instance_normalization_123[0][0] \n                                                                 concatenate_41[0][0]             \n__________________________________________________________________________________________________\nconv2d_122 (Conv2D)             (None, 64, 64, 256)  4718848     concatenate_42[0][0]             \n__________________________________________________________________________________________________\ninstance_normalization_124 (Ins (None, 64, 64, 256)  512         conv2d_122[0][0]                 \n__________________________________________________________________________________________________\nactivation_69 (Activation)      (None, 64, 64, 256)  0           instance_normalization_124[0][0] \n__________________________________________________________________________________________________\nconv2d_123 (Conv2D)             (None, 64, 64, 256)  590080      activation_69[0][0]              \n__________________________________________________________________________________________________\ninstance_normalization_125 (Ins (None, 64, 64, 256)  512         conv2d_123[0][0]                 \n__________________________________________________________________________________________________\nconcatenate_43 (Concatenate)    (None, 64, 64, 2304) 0           instance_normalization_125[0][0] \n                                                                 concatenate_42[0][0]             \n__________________________________________________________________________________________________\nconv2d_124 (Conv2D)             (None, 64, 64, 256)  5308672     concatenate_43[0][0]             \n__________________________________________________________________________________________________\ninstance_normalization_126 (Ins (None, 64, 64, 256)  512         conv2d_124[0][0]                 \n__________________________________________________________________________________________________\nactivation_70 (Activation)      (None, 64, 64, 256)  0           instance_normalization_126[0][0] \n__________________________________________________________________________________________________\nconv2d_125 (Conv2D)             (None, 64, 64, 256)  590080      activation_70[0][0]              \n__________________________________________________________________________________________________\ninstance_normalization_127 (Ins (None, 64, 64, 256)  512         conv2d_125[0][0]                 \n__________________________________________________________________________________________________\nconcatenate_44 (Concatenate)    (None, 64, 64, 2560) 0           instance_normalization_127[0][0] \n                                                                 concatenate_43[0][0]             \n__________________________________________________________________________________________________\nconv2d_transpose_8 (Conv2DTrans (None, 128, 128, 128 2949248     concatenate_44[0][0]             \n__________________________________________________________________________________________________\ninstance_normalization_128 (Ins (None, 128, 128, 128 256         conv2d_transpose_8[0][0]         \n__________________________________________________________________________________________________\nactivation_71 (Activation)      (None, 128, 128, 128 0           instance_normalization_128[0][0] \n__________________________________________________________________________________________________\nconv2d_transpose_9 (Conv2DTrans (None, 256, 256, 64) 73792       activation_71[0][0]              \n__________________________________________________________________________________________________\ninstance_normalization_129 (Ins (None, 256, 256, 64) 128         conv2d_transpose_9[0][0]         \n__________________________________________________________________________________________________\nactivation_72 (Activation)      (None, 256, 256, 64) 0           instance_normalization_129[0][0] \n__________________________________________________________________________________________________\nconv2d_126 (Conv2D)             (None, 256, 256, 3)  9411        activation_72[0][0]              \n__________________________________________________________________________________________________\ninstance_normalization_130 (Ins (None, 256, 256, 3)  6           conv2d_126[0][0]                 \n__________________________________________________________________________________________________\nactivation_73 (Activation)      (None, 256, 256, 3)  0           instance_normalization_130[0][0] \n==================================================================================================\nTotal params: 35,276,553\nTrainable params: 35,276,553\nNon-trainable params: 0\n__________________________________________________________________________________________________\n"
     ]
    }
   ],
   "source": [
    "model = general_generator()\n",
    "model.summary()"
   ]
  },
  {
   "cell_type": "code",
   "execution_count": 37,
   "metadata": {},
   "outputs": [],
   "source": [
    "from keras.optimizers import Adam\n",
    "from keras.initializers import RandomNormal\n",
    "from keras.models import Model\n",
    "from keras.models import Input\n",
    "from keras.layers import Conv2D\n",
    "from keras.layers import LeakyReLU\n",
    "from keras.layers import Activation\n",
    "from keras.layers import Concatenate\n",
    "from keras.layers import BatchNormalization\n",
    "from keras_contrib.layers.normalization.instancenormalization import InstanceNormalization\n",
    "\n",
    "def general_discriminator(imageShape):\n",
    "    init = RandomNormal(stddev=0.02)\n",
    "    inputImage = Input(shape=imageShape)\n",
    "\n",
    "    discriminator = Conv2D(64, (4,4), strides=(2,2), padding='same', kernel_initializer=init)(inputImage)\n",
    "    discriminator = LeakyReLU(alpha=0.2)(discriminator)\n",
    "\n",
    "    discriminator = Conv2D(128, (4,4), strides=(2,2), padding='same', kernel_initializer=init)(discriminator)\n",
    "    discriminator = InstanceNormalization(axis=-1)(discriminator)\n",
    "    discriminator = LeakyReLU(alpha=0.2)(discriminator)\n",
    "\n",
    "    discriminator = Conv2D(256, (4,4), strides=(2,2), padding='same', kernel_initializer=init)(discriminator)\n",
    "    discriminator = InstanceNormalization(axis=-1)(discriminator)\n",
    "    discriminator = LeakyReLU(alpha=0.2)(discriminator)\n",
    "\n",
    "    discriminator = Conv2D(512, (4,4), strides=(2,2), padding='same', kernel_initializer=init)(discriminator)\n",
    "    discriminator = InstanceNormalization(axis=-1)(discriminator)\n",
    "    discriminator = LeakyReLU(alpha=0.2)(discriminator)\n",
    "\n",
    "    discriminator = Conv2D(512, (4,4), padding='same', kernel_initializer=init)(discriminator)\n",
    "    discriminator = InstanceNormalization(axis=-1)(discriminator)\n",
    "    discriminator = LeakyReLU(alpha=0.2)(discriminator)\n",
    "\n",
    "    output = Conv2D(1, (4,4), padding='same', kernel_initializer=init)(discriminator)\n",
    "    model = Model(inputImage, output)\n",
    "    # TODO negative log likelihood (e.g. binary cross entropy).\n",
    "    model.compile(loss='mse', optimizer=Adam(learning_rate=0.0002, beta_1=0.5), loss_weights=[0.5])\n",
    "    return model\n"
   ]
  },
  {
   "cell_type": "code",
   "execution_count": 38,
   "metadata": {},
   "outputs": [
    {
     "output_type": "stream",
     "name": "stdout",
     "text": [
      "Model: \"model_7\"\n_________________________________________________________________\nLayer (type)                 Output Shape              Param #   \n=================================================================\ninput_9 (InputLayer)         [(None, 256, 256, 3)]     0         \n_________________________________________________________________\nconv2d_127 (Conv2D)          (None, 128, 128, 64)      3136      \n_________________________________________________________________\nleaky_re_lu_15 (LeakyReLU)   (None, 128, 128, 64)      0         \n_________________________________________________________________\nconv2d_128 (Conv2D)          (None, 64, 64, 128)       131200    \n_________________________________________________________________\ninstance_normalization_131 ( (None, 64, 64, 128)       256       \n_________________________________________________________________\nleaky_re_lu_16 (LeakyReLU)   (None, 64, 64, 128)       0         \n_________________________________________________________________\nconv2d_129 (Conv2D)          (None, 32, 32, 256)       524544    \n_________________________________________________________________\ninstance_normalization_132 ( (None, 32, 32, 256)       512       \n_________________________________________________________________\nleaky_re_lu_17 (LeakyReLU)   (None, 32, 32, 256)       0         \n_________________________________________________________________\nconv2d_130 (Conv2D)          (None, 16, 16, 512)       2097664   \n_________________________________________________________________\ninstance_normalization_133 ( (None, 16, 16, 512)       1024      \n_________________________________________________________________\nleaky_re_lu_18 (LeakyReLU)   (None, 16, 16, 512)       0         \n_________________________________________________________________\nconv2d_131 (Conv2D)          (None, 16, 16, 512)       4194816   \n_________________________________________________________________\ninstance_normalization_134 ( (None, 16, 16, 512)       1024      \n_________________________________________________________________\nleaky_re_lu_19 (LeakyReLU)   (None, 16, 16, 512)       0         \n_________________________________________________________________\nconv2d_132 (Conv2D)          (None, 16, 16, 1)         8193      \n=================================================================\nTotal params: 6,962,369\nTrainable params: 6,962,369\nNon-trainable params: 0\n_________________________________________________________________\n"
     ]
    }
   ],
   "source": [
    "imageShape = (256,256, 3)\n",
    "model = general_discriminator(imageShape)\n",
    "model.summary()"
   ]
  },
  {
   "cell_type": "code",
   "execution_count": 41,
   "metadata": {},
   "outputs": [],
   "source": [
    "# Mean squared error, lambda 1\n",
    "def adversarial_loss_model(generator, discriminator, imageShape):\n",
    "    inputGenerator = Input(shape=imageShape)\n",
    "    generatorOutput = generator(inputGenerator)\n",
    "    outputDiscriminator = discriminator(generatorOutput)\n",
    "    model = Model(inputGenerator, outputDiscriminator)\n",
    "    opt = Adam(lr=0.0002, beta_1=0.5)\n",
    "    model.compile(loss='mse', loss_weights=[1], optimizer=opt)\n",
    "    return model\n",
    "\n",
    "# If something already looks like from the target domain, you should not map it into a different image.\n",
    "#Identity loss says that, if you fed image Y to generator G, it should yield the real image Y or something close to image Y.\n",
    "# Mean absolute error, lambda 5\n",
    "def identity_loss_model(generator, imageShape):\n",
    "    inputIdentity = Input(shape=imageShape)\n",
    "    outputIdentity = generator(inputIdentity)\n",
    "    model = Model(inputIdentity, outputIdentity)\n",
    "    opt = Adam(lr=0.0002, beta_1=0.5)\n",
    "    model.compile(loss='mae', loss_weights=[5], optimizer=opt)\n",
    "    return model\n",
    "\n",
    "# Mean absolute error, lambda 10\n",
    "def forward_cycle_loss_model(generatorG, generatorF, imageShape):\n",
    "    inputGenerator = Input(shape=imageShape)\n",
    "    generatorG_output = generatorG(inputGenerator)\n",
    "    generatorF_output = generatorF(generatorG_output)\n",
    "    model = Model(inputGenerator, generatorF_output)\n",
    "    opt = Adam(lr=0.0002, beta_1=0.5)\n",
    "    model.compile(loss='mae', loss_weights=[10], optimizer=opt)\n",
    "    return model\n",
    "\n",
    "# Mean absolute error, lambda 10\n",
    "def backward_cycle_loss_model(generatorG, generatorF, imageShape):\n",
    "    inputGenerator = Input(shape=imageShape)\n",
    "    generatorF_output = generatorF(inputGenerator)\n",
    "    generatorG_output = generatorG(generatorF_output)\n",
    "    model = Model(inputGenerator, generatorG_output)\n",
    "    opt = Adam(lr=0.0002, beta_1=0.5)\n",
    "    model.compile(loss='mae', loss_weights=[10], optimizer=opt)\n",
    "    return model\n"
   ]
  },
  {
   "cell_type": "code",
   "execution_count": 42,
   "metadata": {},
   "outputs": [],
   "source": [
    "# test code ---\n",
    "imageShape = (256,256, 3)\n",
    "# generator G(x) -> y'\n",
    "Gx_2_y = general_generator(imageShape)\n",
    "# generator F(y') -> x'\n",
    "Fy_2_x = general_generator(imageShape)\n",
    "# discriminator D(y') -> real/fake painting?\n",
    "Dy = general_discriminator(imageShape)\n",
    "# discriminator D(x') -> real/fake landscape?\n",
    "Dx = general_discriminator(imageShape)\n",
    "\n",
    "adversarial_loss_model_G = adversarial_loss_model(Gx_2_y, Dy, imageShape)\n",
    "identity_loss_model_G = identity_loss_model(Gx_2_y, imageShape)\n",
    "forward_cycle_loss_model_G = forward_cycle_loss_model(Gx_2_y, Fy_2_x, imageShape)\n",
    "backward_cycle_loss_model_G = backward_cycle_loss_model(Gx_2_y, Fy_2_x, imageShape)\n",
    "\n",
    "adversarial_loss_model_F = adversarial_loss_model(Fy_2_x, Dx, imageShape)\n",
    "identity_loss_model_F = identity_loss_model(Fy_2_x, imageShape)\n",
    "forward_cycle_loss_model_F = forward_cycle_loss_model(Fy_2_x, Gx_2_y, imageShape)\n",
    "backward_cycle_loss_model_F = backward_cycle_loss_model(Fy_2_x, Gx_2_y, imageShape)"
   ]
  },
  {
   "cell_type": "code",
   "execution_count": null,
   "metadata": {},
   "outputs": [],
   "source": []
  }
 ]
}