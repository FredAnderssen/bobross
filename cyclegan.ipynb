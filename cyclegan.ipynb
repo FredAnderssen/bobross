{
 "metadata": {
  "language_info": {
   "codemirror_mode": {
    "name": "ipython",
    "version": 3
   },
   "file_extension": ".py",
   "mimetype": "text/x-python",
   "name": "python",
   "nbconvert_exporter": "python",
   "pygments_lexer": "ipython3",
   "version": "3.8.0"
  },
  "orig_nbformat": 2,
  "kernelspec": {
   "name": "python3",
   "display_name": "Python 3.8.0 64-bit ('.venvpy38': venv)",
   "metadata": {
    "interpreter": {
     "hash": "1725478bc3027f3e9fbd71ebb5c47202970209a80c1247879d439247edd02c1f"
    }
   }
  }
 },
 "nbformat": 4,
 "nbformat_minor": 2,
 "cells": [
  {
   "cell_type": "code",
   "execution_count": 6,
   "metadata": {},
   "outputs": [],
   "source": [
    "import cv2 as cv\n",
    "import numpy as np\n",
    "import matplotlib.pyplot as plt\n",
    "import tensorflow as tf\n",
    "from tensorflow import keras\n",
    "from tensorflow.keras import layers\n",
    "from keras_contrib.layers.normalization.instancenormalization import InstanceNormalization"
   ]
  },
  {
   "cell_type": "code",
   "execution_count": 3,
   "metadata": {},
   "outputs": [
    {
     "output_type": "stream",
     "name": "stdout",
     "text": [
      "hello there\n"
     ]
    }
   ],
   "source": []
  },
  {
   "cell_type": "code",
   "execution_count": 8,
   "metadata": {},
   "outputs": [],
   "source": [
    "def transform_resnet_block(nrOfFilters, inputLayer):\n",
    "    init = keras.initializers.RandomNormal(stddev=0.02)\n",
    "    resnet = keras.layers.Conv2D(nrOfFilters, (3,3), padding='same', kernel_initializer=init)(inputLayer)\n",
    "    # instead of Batchnormalization\n",
    "    resnet = InstanceNormalization(axis=-1)(resnet)\n",
    "    resnet = keras.layers.Activation('relu')(resnet)\n",
    "    # TODO reflection padding\n",
    "    resnet = keras.layers.Conv2D(nrOfFilters, (3,3), padding='same', kernel_initializer=init)(resnet)\n",
    "    resnet = InstanceNormalization(axis=-1)(resnet)\n",
    "    resnet = keras.layers.Concatenate()([resnet, inputLayer])\n",
    "    return resnet\n",
    "\n"
   ]
  },
  {
   "cell_type": "code",
   "execution_count": 14,
   "metadata": {},
   "outputs": [],
   "source": [
    "def general_generator(imageShape=(256,256,3), nrOfResnet=9):\n",
    "    init = keras.initializers.RandomNormal(stddev=0.02)\n",
    "    inputImage = keras.Input(shape=imageShape)\n",
    "    # ----Encode ------\n",
    "    generator = keras.layers.Conv2D(64, (7,7), padding='same', kernel_initializer=init)(inputImage)\n",
    "    generator = InstanceNormalization(axis=-1)(generator)\n",
    "    generator = keras.layers.Activation('relu')(generator)\n",
    "\n",
    "    generator = keras.layers.Conv2D(128, (3,3), strides=(2,2), padding='same', kernel_initializer=init)(generator)\n",
    "    generator = InstanceNormalization(axis=-1)(generator)\n",
    "    generator = keras.layers.Activation('relu')(generator)\n",
    "\n",
    "    generator = keras.layers.Conv2D(256, (3,3), strides=(2,2), padding='same', kernel_initializer=init)(generator)\n",
    "    generator = InstanceNormalization(axis=-1)(generator)\n",
    "    generator = keras.layers.Activation('relu')(generator)\n",
    "\n",
    "    # ----Transform -----\n",
    "    for _ in range(nrOfResnet):\n",
    "        generator = transform_resnet_block(256, generator)\n",
    "    # ----Decode ------\n",
    "    generator = keras.layers.Conv2DTranspose(128, (3,3), strides=(2,2), padding='same', kernel_initializer=init)(generator)\n",
    "    generator = InstanceNormalization(axis=-1)(generator)\n",
    "    generator = keras.layers.Activation('relu')(generator)\n",
    "\n",
    "    generator = keras.layers.Conv2DTranspose(64, (3,3), strides=(2,2), padding='same', kernel_initializer=init)(generator)\n",
    "    generator = InstanceNormalization(axis=-1)(generator)\n",
    "    generator = keras.layers.Activation('relu')(generator)\n",
    "\n",
    "    generator = keras.layersConv2D(3, (7,7), padding='same', kernel_initializer=init)(generator)\n",
    "    generator = InstanceNormalization(axis=-1)(generator)\n",
    "    outputImage = keras.layers.Activation('tanh')(generator)\n",
    "\n",
    "    model = keras.Model(inputImage, outputImage)\n",
    "    return model\n",
    "\n"
   ]
  },
  {
   "cell_type": "code",
   "execution_count": null,
   "metadata": {},
   "outputs": [],
   "source": [
    "model = general_generator()\n",
    "model.summary()"
   ]
  }
 ]
}