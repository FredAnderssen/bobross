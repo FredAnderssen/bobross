{
 "metadata": {
  "language_info": {
   "codemirror_mode": {
    "name": "ipython",
    "version": 3
   },
   "file_extension": ".py",
   "mimetype": "text/x-python",
   "name": "python",
   "nbconvert_exporter": "python",
   "pygments_lexer": "ipython3",
   "version": "3.8.0"
  },
  "orig_nbformat": 2,
  "kernelspec": {
   "name": "python3",
   "display_name": "Python 3.8.0 64-bit ('.venvpy38': venv)",
   "metadata": {
    "interpreter": {
     "hash": "1725478bc3027f3e9fbd71ebb5c47202970209a80c1247879d439247edd02c1f"
    }
   }
  }
 },
 "nbformat": 4,
 "nbformat_minor": 2,
 "cells": [
  {
   "cell_type": "code",
   "execution_count": 6,
   "metadata": {},
   "outputs": [],
   "source": [
    "import cv2 as cv\n",
    "import numpy as np\n",
    "import matplotlib.pyplot as plt\n",
    "import tensorflow as tf\n",
    "from tensorflow import keras\n",
    "from tensorflow.keras import layers\n",
    "from keras_contrib.layers.normalization.instancenormalization import InstanceNormalization"
   ]
  },
  {
   "cell_type": "code",
   "execution_count": 3,
   "metadata": {},
   "outputs": [
    {
     "output_type": "stream",
     "name": "stdout",
     "text": [
      "hello there\n"
     ]
    }
   ],
   "source": []
  },
  {
   "cell_type": "code",
   "execution_count": 8,
   "metadata": {},
   "outputs": [],
   "source": [
    "def transform_resnet_block(nrOfFilters, inputLayer):\n",
    "    init = keras.initializers.RandomNormal(stddev=0.02)\n",
    "    resnet = keras.layers.Conv2D(nrOfFilters, (3,3), padding='same', kernel_initializer=init)(inputLayer)\n",
    "    # instead of Batchnormalization\n",
    "    resnet = InstanceNormalization(axis=-1)(resnet)\n",
    "    resnet = keras.layers.Activation('relu')(resnet)\n",
    "    # TODO reflection padding\n",
    "    resnet = keras.layers.Conv2D(nrOfFilters, (3,3), padding='same', kernel_initializer=init)(resnet)\n",
    "    resnet = InstanceNormalization(axis=-1)(resnet)\n",
    "    resnet = keras.layers.Concatenate()([resnet, inputLayer])\n",
    "    return resnet\n",
    "\n"
   ]
  },
  {
   "cell_type": "code",
   "execution_count": 17,
   "metadata": {},
   "outputs": [],
   "source": [
    "# TODO generator model to use 6 ResNet layers as is used in the cycleGAN paper\n",
    "def general_generator(imageShape=(256,256,3), nrOfResnet=9):\n",
    "    init = keras.initializers.RandomNormal(stddev=0.02)\n",
    "    inputImage = keras.Input(shape=imageShape)\n",
    "    # ----Encode ------\n",
    "    generator = keras.layers.Conv2D(64, (7,7), padding='same', kernel_initializer=init)(inputImage)\n",
    "    generator = InstanceNormalization(axis=-1)(generator)\n",
    "    generator = keras.layers.Activation('relu')(generator)\n",
    "\n",
    "    generator = keras.layers.Conv2D(128, (3,3), strides=(2,2), padding='same', kernel_initializer=init)(generator)\n",
    "    generator = InstanceNormalization(axis=-1)(generator)\n",
    "    generator = keras.layers.Activation('relu')(generator)\n",
    "\n",
    "    generator = keras.layers.Conv2D(256, (3,3), strides=(2,2), padding='same', kernel_initializer=init)(generator)\n",
    "    generator = InstanceNormalization(axis=-1)(generator)\n",
    "    generator = keras.layers.Activation('relu')(generator)\n",
    "\n",
    "    # ----Transform -----\n",
    "    for _ in range(nrOfResnet):\n",
    "        generator = transform_resnet_block(256, generator)\n",
    "    # ----Decode ------\n",
    "    generator = keras.layers.Conv2DTranspose(128, (3,3), strides=(2,2), padding='same', kernel_initializer=init)(generator)\n",
    "    generator = InstanceNormalization(axis=-1)(generator)\n",
    "    generator = keras.layers.Activation('relu')(generator)\n",
    "\n",
    "    generator = keras.layers.Conv2DTranspose(64, (3,3), strides=(2,2), padding='same', kernel_initializer=init)(generator)\n",
    "    generator = InstanceNormalization(axis=-1)(generator)\n",
    "    generator = keras.layers.Activation('relu')(generator)\n",
    "\n",
    "    generator = keras.layers.Conv2D(3, (7,7), padding='same', kernel_initializer=init)(generator)\n",
    "    generator = InstanceNormalization(axis=-1)(generator)\n",
    "    outputImage = keras.layers.Activation('tanh')(generator)\n",
    "\n",
    "    model = keras.Model(inputImage, outputImage)\n",
    "    return model\n",
    "\n"
   ]
  },
  {
   "cell_type": "code",
   "execution_count": 18,
   "metadata": {},
   "outputs": [
    {
     "output_type": "stream",
     "name": "stdout",
     "text": [
      "Model: \"model\"\n__________________________________________________________________________________________________\nLayer (type)                    Output Shape         Param #     Connected to                     \n==================================================================================================\ninput_2 (InputLayer)            [(None, 256, 256, 3) 0                                            \n__________________________________________________________________________________________________\nconv2d_21 (Conv2D)              (None, 256, 256, 64) 9472        input_2[0][0]                    \n__________________________________________________________________________________________________\ninstance_normalization_23 (Inst (None, 256, 256, 64) 128         conv2d_21[0][0]                  \n__________________________________________________________________________________________________\nactivation_14 (Activation)      (None, 256, 256, 64) 0           instance_normalization_23[0][0]  \n__________________________________________________________________________________________________\nconv2d_22 (Conv2D)              (None, 128, 128, 128 73856       activation_14[0][0]              \n__________________________________________________________________________________________________\ninstance_normalization_24 (Inst (None, 128, 128, 128 256         conv2d_22[0][0]                  \n__________________________________________________________________________________________________\nactivation_15 (Activation)      (None, 128, 128, 128 0           instance_normalization_24[0][0]  \n__________________________________________________________________________________________________\nconv2d_23 (Conv2D)              (None, 64, 64, 256)  295168      activation_15[0][0]              \n__________________________________________________________________________________________________\ninstance_normalization_25 (Inst (None, 64, 64, 256)  512         conv2d_23[0][0]                  \n__________________________________________________________________________________________________\nactivation_16 (Activation)      (None, 64, 64, 256)  0           instance_normalization_25[0][0]  \n__________________________________________________________________________________________________\nconv2d_24 (Conv2D)              (None, 64, 64, 256)  590080      activation_16[0][0]              \n__________________________________________________________________________________________________\ninstance_normalization_26 (Inst (None, 64, 64, 256)  512         conv2d_24[0][0]                  \n__________________________________________________________________________________________________\nactivation_17 (Activation)      (None, 64, 64, 256)  0           instance_normalization_26[0][0]  \n__________________________________________________________________________________________________\nconv2d_25 (Conv2D)              (None, 64, 64, 256)  590080      activation_17[0][0]              \n__________________________________________________________________________________________________\ninstance_normalization_27 (Inst (None, 64, 64, 256)  512         conv2d_25[0][0]                  \n__________________________________________________________________________________________________\nconcatenate_9 (Concatenate)     (None, 64, 64, 512)  0           instance_normalization_27[0][0]  \n                                                                 activation_16[0][0]              \n__________________________________________________________________________________________________\nconv2d_26 (Conv2D)              (None, 64, 64, 256)  1179904     concatenate_9[0][0]              \n__________________________________________________________________________________________________\ninstance_normalization_28 (Inst (None, 64, 64, 256)  512         conv2d_26[0][0]                  \n__________________________________________________________________________________________________\nactivation_18 (Activation)      (None, 64, 64, 256)  0           instance_normalization_28[0][0]  \n__________________________________________________________________________________________________\nconv2d_27 (Conv2D)              (None, 64, 64, 256)  590080      activation_18[0][0]              \n__________________________________________________________________________________________________\ninstance_normalization_29 (Inst (None, 64, 64, 256)  512         conv2d_27[0][0]                  \n__________________________________________________________________________________________________\nconcatenate_10 (Concatenate)    (None, 64, 64, 768)  0           instance_normalization_29[0][0]  \n                                                                 concatenate_9[0][0]              \n__________________________________________________________________________________________________\nconv2d_28 (Conv2D)              (None, 64, 64, 256)  1769728     concatenate_10[0][0]             \n__________________________________________________________________________________________________\ninstance_normalization_30 (Inst (None, 64, 64, 256)  512         conv2d_28[0][0]                  \n__________________________________________________________________________________________________\nactivation_19 (Activation)      (None, 64, 64, 256)  0           instance_normalization_30[0][0]  \n__________________________________________________________________________________________________\nconv2d_29 (Conv2D)              (None, 64, 64, 256)  590080      activation_19[0][0]              \n__________________________________________________________________________________________________\ninstance_normalization_31 (Inst (None, 64, 64, 256)  512         conv2d_29[0][0]                  \n__________________________________________________________________________________________________\nconcatenate_11 (Concatenate)    (None, 64, 64, 1024) 0           instance_normalization_31[0][0]  \n                                                                 concatenate_10[0][0]             \n__________________________________________________________________________________________________\nconv2d_30 (Conv2D)              (None, 64, 64, 256)  2359552     concatenate_11[0][0]             \n__________________________________________________________________________________________________\ninstance_normalization_32 (Inst (None, 64, 64, 256)  512         conv2d_30[0][0]                  \n__________________________________________________________________________________________________\nactivation_20 (Activation)      (None, 64, 64, 256)  0           instance_normalization_32[0][0]  \n__________________________________________________________________________________________________\nconv2d_31 (Conv2D)              (None, 64, 64, 256)  590080      activation_20[0][0]              \n__________________________________________________________________________________________________\ninstance_normalization_33 (Inst (None, 64, 64, 256)  512         conv2d_31[0][0]                  \n__________________________________________________________________________________________________\nconcatenate_12 (Concatenate)    (None, 64, 64, 1280) 0           instance_normalization_33[0][0]  \n                                                                 concatenate_11[0][0]             \n__________________________________________________________________________________________________\nconv2d_32 (Conv2D)              (None, 64, 64, 256)  2949376     concatenate_12[0][0]             \n__________________________________________________________________________________________________\ninstance_normalization_34 (Inst (None, 64, 64, 256)  512         conv2d_32[0][0]                  \n__________________________________________________________________________________________________\nactivation_21 (Activation)      (None, 64, 64, 256)  0           instance_normalization_34[0][0]  \n__________________________________________________________________________________________________\nconv2d_33 (Conv2D)              (None, 64, 64, 256)  590080      activation_21[0][0]              \n__________________________________________________________________________________________________\ninstance_normalization_35 (Inst (None, 64, 64, 256)  512         conv2d_33[0][0]                  \n__________________________________________________________________________________________________\nconcatenate_13 (Concatenate)    (None, 64, 64, 1536) 0           instance_normalization_35[0][0]  \n                                                                 concatenate_12[0][0]             \n__________________________________________________________________________________________________\nconv2d_34 (Conv2D)              (None, 64, 64, 256)  3539200     concatenate_13[0][0]             \n__________________________________________________________________________________________________\ninstance_normalization_36 (Inst (None, 64, 64, 256)  512         conv2d_34[0][0]                  \n__________________________________________________________________________________________________\nactivation_22 (Activation)      (None, 64, 64, 256)  0           instance_normalization_36[0][0]  \n__________________________________________________________________________________________________\nconv2d_35 (Conv2D)              (None, 64, 64, 256)  590080      activation_22[0][0]              \n__________________________________________________________________________________________________\ninstance_normalization_37 (Inst (None, 64, 64, 256)  512         conv2d_35[0][0]                  \n__________________________________________________________________________________________________\nconcatenate_14 (Concatenate)    (None, 64, 64, 1792) 0           instance_normalization_37[0][0]  \n                                                                 concatenate_13[0][0]             \n__________________________________________________________________________________________________\nconv2d_36 (Conv2D)              (None, 64, 64, 256)  4129024     concatenate_14[0][0]             \n__________________________________________________________________________________________________\ninstance_normalization_38 (Inst (None, 64, 64, 256)  512         conv2d_36[0][0]                  \n__________________________________________________________________________________________________\nactivation_23 (Activation)      (None, 64, 64, 256)  0           instance_normalization_38[0][0]  \n__________________________________________________________________________________________________\nconv2d_37 (Conv2D)              (None, 64, 64, 256)  590080      activation_23[0][0]              \n__________________________________________________________________________________________________\ninstance_normalization_39 (Inst (None, 64, 64, 256)  512         conv2d_37[0][0]                  \n__________________________________________________________________________________________________\nconcatenate_15 (Concatenate)    (None, 64, 64, 2048) 0           instance_normalization_39[0][0]  \n                                                                 concatenate_14[0][0]             \n__________________________________________________________________________________________________\nconv2d_38 (Conv2D)              (None, 64, 64, 256)  4718848     concatenate_15[0][0]             \n__________________________________________________________________________________________________\ninstance_normalization_40 (Inst (None, 64, 64, 256)  512         conv2d_38[0][0]                  \n__________________________________________________________________________________________________\nactivation_24 (Activation)      (None, 64, 64, 256)  0           instance_normalization_40[0][0]  \n__________________________________________________________________________________________________\nconv2d_39 (Conv2D)              (None, 64, 64, 256)  590080      activation_24[0][0]              \n__________________________________________________________________________________________________\ninstance_normalization_41 (Inst (None, 64, 64, 256)  512         conv2d_39[0][0]                  \n__________________________________________________________________________________________________\nconcatenate_16 (Concatenate)    (None, 64, 64, 2304) 0           instance_normalization_41[0][0]  \n                                                                 concatenate_15[0][0]             \n__________________________________________________________________________________________________\nconv2d_40 (Conv2D)              (None, 64, 64, 256)  5308672     concatenate_16[0][0]             \n__________________________________________________________________________________________________\ninstance_normalization_42 (Inst (None, 64, 64, 256)  512         conv2d_40[0][0]                  \n__________________________________________________________________________________________________\nactivation_25 (Activation)      (None, 64, 64, 256)  0           instance_normalization_42[0][0]  \n__________________________________________________________________________________________________\nconv2d_41 (Conv2D)              (None, 64, 64, 256)  590080      activation_25[0][0]              \n__________________________________________________________________________________________________\ninstance_normalization_43 (Inst (None, 64, 64, 256)  512         conv2d_41[0][0]                  \n__________________________________________________________________________________________________\nconcatenate_17 (Concatenate)    (None, 64, 64, 2560) 0           instance_normalization_43[0][0]  \n                                                                 concatenate_16[0][0]             \n__________________________________________________________________________________________________\nconv2d_transpose_2 (Conv2DTrans (None, 128, 128, 128 2949248     concatenate_17[0][0]             \n__________________________________________________________________________________________________\ninstance_normalization_44 (Inst (None, 128, 128, 128 256         conv2d_transpose_2[0][0]         \n__________________________________________________________________________________________________\nactivation_26 (Activation)      (None, 128, 128, 128 0           instance_normalization_44[0][0]  \n__________________________________________________________________________________________________\nconv2d_transpose_3 (Conv2DTrans (None, 256, 256, 64) 73792       activation_26[0][0]              \n__________________________________________________________________________________________________\ninstance_normalization_45 (Inst (None, 256, 256, 64) 128         conv2d_transpose_3[0][0]         \n__________________________________________________________________________________________________\nactivation_27 (Activation)      (None, 256, 256, 64) 0           instance_normalization_45[0][0]  \n__________________________________________________________________________________________________\nconv2d_42 (Conv2D)              (None, 256, 256, 3)  9411        activation_27[0][0]              \n__________________________________________________________________________________________________\ninstance_normalization_46 (Inst (None, 256, 256, 3)  6           conv2d_42[0][0]                  \n__________________________________________________________________________________________________\nactivation_28 (Activation)      (None, 256, 256, 3)  0           instance_normalization_46[0][0]  \n==================================================================================================\nTotal params: 35,276,553\nTrainable params: 35,276,553\nNon-trainable params: 0\n__________________________________________________________________________________________________\n"
     ]
    }
   ],
   "source": [
    "model = general_generator()\n",
    "model.summary()"
   ]
  },
  {
   "cell_type": "code",
   "execution_count": 27,
   "metadata": {},
   "outputs": [],
   "source": [
    "from keras.optimizers import Adam\n",
    "from keras.initializers import RandomNormal\n",
    "from keras.models import Model\n",
    "from keras.models import Input\n",
    "from keras.layers import Conv2D\n",
    "from keras.layers import LeakyReLU\n",
    "from keras.layers import Activation\n",
    "from keras.layers import Concatenate\n",
    "from keras.layers import BatchNormalization\n",
    "from keras_contrib.layers.normalization.instancenormalization import InstanceNormalization\n",
    "\n",
    "def general_discriminator(imageShape):\n",
    "    init = RandomNormal(stddev=0.02)\n",
    "    inputImage = Input(shape=imageShape)\n",
    "\n",
    "    discriminator = Conv2D(64, (4,4), strides=(2,2), padding='same', kernel_initializer=init)(inputImage)\n",
    "    discriminator = LeakyReLU(alpha=0.2)(discriminator)\n",
    "\n",
    "    discriminator = Conv2D(128, (4,4), strides=(2,2), padding='same', kernel_initializer=init)(discriminator)\n",
    "    discriminator = InstanceNormalization(axis=-1)(discriminator)\n",
    "    discriminator = LeakyReLU(alpha=0.2)(discriminator)\n",
    "\n",
    "    discriminator = Conv2D(256, (4,4), strides=(2,2), padding='same', kernel_initializer=init)(discriminator)\n",
    "    discriminator = InstanceNormalization(axis=-1)(discriminator)\n",
    "    discriminator = LeakyReLU(alpha=0.2)(discriminator)\n",
    "\n",
    "    discriminator = Conv2D(512, (4,4), strides=(2,2), padding='same', kernel_initializer=init)(discriminator)\n",
    "    discriminator = InstanceNormalization(axis=-1)(discriminator)\n",
    "    discriminator = LeakyReLU(alpha=0.2)(discriminator)\n",
    "\n",
    "    discriminator = Conv2D(512, (4,4), padding='same', kernel_initializer=init)(discriminator)\n",
    "    discriminator = InstanceNormalization(axis=-1)(discriminator)\n",
    "    discriminator = LeakyReLU(alpha=0.2)(discriminator)\n",
    "\n",
    "    output = Conv2D(1, (4,4), padding='same', kernel_initializer=init)(discriminator)\n",
    "    model = Model(inputImage, output)\n",
    "    # TODO negative log likelihood (e.g. binary cross entropy).\n",
    "    model.compile(loss='mse', optimizer=Adam(learning_rate=0.0002, beta_1=0.5), loss_weights=[0.5])\n",
    "    return model\n"
   ]
  },
  {
   "cell_type": "code",
   "execution_count": 28,
   "metadata": {},
   "outputs": [
    {
     "output_type": "stream",
     "name": "stdout",
     "text": [
      "Model: \"model_1\"\n_________________________________________________________________\nLayer (type)                 Output Shape              Param #   \n=================================================================\ninput_3 (InputLayer)         [(None, 256, 256, 3)]     0         \n_________________________________________________________________\nconv2d_43 (Conv2D)           (None, 128, 128, 64)      3136      \n_________________________________________________________________\nleaky_re_lu (LeakyReLU)      (None, 128, 128, 64)      0         \n_________________________________________________________________\nconv2d_44 (Conv2D)           (None, 64, 64, 128)       131200    \n_________________________________________________________________\ninstance_normalization_47 (I (None, 64, 64, 128)       256       \n_________________________________________________________________\nleaky_re_lu_1 (LeakyReLU)    (None, 64, 64, 128)       0         \n_________________________________________________________________\nconv2d_45 (Conv2D)           (None, 32, 32, 256)       524544    \n_________________________________________________________________\ninstance_normalization_48 (I (None, 32, 32, 256)       512       \n_________________________________________________________________\nleaky_re_lu_2 (LeakyReLU)    (None, 32, 32, 256)       0         \n_________________________________________________________________\nconv2d_46 (Conv2D)           (None, 16, 16, 512)       2097664   \n_________________________________________________________________\ninstance_normalization_49 (I (None, 16, 16, 512)       1024      \n_________________________________________________________________\nleaky_re_lu_3 (LeakyReLU)    (None, 16, 16, 512)       0         \n_________________________________________________________________\nconv2d_47 (Conv2D)           (None, 16, 16, 512)       4194816   \n_________________________________________________________________\ninstance_normalization_50 (I (None, 16, 16, 512)       1024      \n_________________________________________________________________\nleaky_re_lu_4 (LeakyReLU)    (None, 16, 16, 512)       0         \n_________________________________________________________________\nconv2d_48 (Conv2D)           (None, 16, 16, 1)         8193      \n=================================================================\nTotal params: 6,962,369\nTrainable params: 6,962,369\nNon-trainable params: 0\n_________________________________________________________________\n"
     ]
    }
   ],
   "source": [
    "imageShape = (256,256, 3)\n",
    "model = general_discriminator(imageShape)\n",
    "model.summary()"
   ]
  },
  {
   "cell_type": "code",
   "execution_count": 29,
   "metadata": {},
   "outputs": [],
   "source": [
    "imageShape = (256,256, 3)\n",
    "# generator G(x) -> y'\n",
    "Gx_2_y = general_generator(imageShape)\n",
    "# generator F(y') -> x'\n",
    "Fy_2_x = general_generator(imageShape)\n",
    "# discriminator D(y') -> real/fake painting?\n",
    "Dy = general_discriminator(imageShape)\n",
    "# discriminator D(x') -> real/fake landscape?\n",
    "Dx = general_discriminator(imageShape)"
   ]
  },
  {
   "cell_type": "code",
   "execution_count": 32,
   "metadata": {},
   "outputs": [],
   "source": [
    "# Mean squared error, lambda 1\n",
    "def adversarial_loss_model(generator, discriminator, imageShape):\n",
    "    inputGenerator = Input(shape=imageShape)\n",
    "    generatorOutput = generator(inputGenerator)\n",
    "    outputDiscriminator = discriminator(generatorOutput)\n",
    "    model = Model(inputGenerator, outputDiscriminator)\n",
    "    opt = Adam(lr=0.0002, beta_1=0.5)\n",
    "    model.compile(loss='mse', loss_weights=[1], optimizer=opt)\n",
    "    return model\n",
    "\n",
    "# If something already looks like from the target domain, you should not map it into a different image.\n",
    "#Identity loss says that, if you fed image Y to generator G, it should yield the real image Y or something close to image Y.\n",
    "# Mean absolute error, lambda 5\n",
    "def identity_loss_model(generator, imageShape):\n",
    "    inputIdentity = Input(shape=imageShape)\n",
    "    outputIdentity = generator(inputIdentity)\n",
    "    model = Model(inputIdentity, outputIdentity)\n",
    "    opt = Adam(lr=0.0002, beta_1=0.5)\n",
    "    model.compile(loss='mae', loss_weights=[5], optimizer=opt)\n",
    "    return model\n",
    "\n",
    "# Mean absolute error, lambda 10\n",
    "def forward_cycle_loss_model(generatorG, generatorF, imageShape):\n",
    "    inputGenerator = Input(shape=imageShape)\n",
    "    generatorG_output = generatorG(inputGenerator)\n",
    "    generatorF_output = generatorF(generatorG_output)\n",
    "    model = Model(inputGenerator, generatorF_output)\n",
    "    opt = Adam(lr=0.0002, beta_1=0.5)\n",
    "    model.compile(loss='mae', loss_weights=[10], optimizer=opt)\n",
    "    return model\n",
    "\n",
    "# Mean absolute error, lambda 10\n",
    "def backward_cycle_loss(generatorG, generatorF, imageShape):\n",
    "    inputGenerator = Input(shape=imageShape)\n",
    "    generatorF_output = generatorF(inputGenerator)\n",
    "    generatorG_output = generatorG(generatorF_output)\n",
    "    model = Model(inputGenerator, generatorG_output)\n",
    "    opt = Adam(lr=0.0002, beta_1=0.5)\n",
    "    model.compile(loss='mae', loss_weights=[10], optimizer=opt)\n",
    "    return model\n"
   ]
  },
  {
   "cell_type": "code",
   "execution_count": null,
   "metadata": {},
   "outputs": [],
   "source": []
  }
 ]
}